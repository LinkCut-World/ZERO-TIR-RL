{
 "cells": [
  {
   "cell_type": "code",
   "execution_count": 1,
   "id": "9733cf73",
   "metadata": {},
   "outputs": [],
   "source": [
    "import os\n",
    "os.environ[\"HF_ENDPOINT\"] = \"https://hf-mirror.com\""
   ]
  },
  {
   "cell_type": "code",
   "execution_count": 2,
   "id": "dc98bf1f",
   "metadata": {},
   "outputs": [
    {
     "name": "stderr",
     "output_type": "stream",
     "text": [
      "/home/liangchengwei/miniconda3/envs/test/lib/python3.12/site-packages/tqdm/auto.py:21: TqdmWarning: IProgress not found. Please update jupyter and ipywidgets. See https://ipywidgets.readthedocs.io/en/stable/user_install.html\n",
      "  from .autonotebook import tqdm as notebook_tqdm\n"
     ]
    }
   ],
   "source": [
    "import datasets\n",
    "\n",
    "raw_data = datasets.load_dataset(\"math-ai/aime25\", split=\"test\")"
   ]
  },
  {
   "cell_type": "code",
   "execution_count": 3,
   "id": "6bee5c86",
   "metadata": {},
   "outputs": [
    {
     "name": "stderr",
     "output_type": "stream",
     "text": [
      "Saving the dataset (1/1 shards): 100%|██████████| 30/30 [00:00<00:00, 467.48 examples/s]\n"
     ]
    }
   ],
   "source": [
    "dataset = raw_data.map(lambda ex: {'question': ex['problem'], 'answer': ex['answer']})\n",
    "dataset = dataset.remove_columns([c for c in dataset.column_names if c not in ('question', 'answer')])\n",
    "dataset.save_to_disk(\"AIME25\")"
   ]
  },
  {
   "cell_type": "code",
   "execution_count": 4,
   "id": "9e01fde1",
   "metadata": {},
   "outputs": [
    {
     "name": "stdout",
     "output_type": "stream",
     "text": [
      "Dataset({\n",
      "    features: ['answer', 'question'],\n",
      "    num_rows: 30\n",
      "})\n",
      "{'answer': '70', 'question': 'Find the sum of all integer bases $b>9$ for which $17_b$ is a divisor of $97_b.$'}\n"
     ]
    }
   ],
   "source": [
    "print(dataset)\n",
    "print(dataset[0])"
   ]
  }
 ],
 "metadata": {
  "kernelspec": {
   "display_name": "test",
   "language": "python",
   "name": "python3"
  },
  "language_info": {
   "codemirror_mode": {
    "name": "ipython",
    "version": 3
   },
   "file_extension": ".py",
   "mimetype": "text/x-python",
   "name": "python",
   "nbconvert_exporter": "python",
   "pygments_lexer": "ipython3",
   "version": "3.12.11"
  }
 },
 "nbformat": 4,
 "nbformat_minor": 5
}
